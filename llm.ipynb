{
 "cells": [
  {
   "cell_type": "code",
   "execution_count": 1,
   "metadata": {},
   "outputs": [],
   "source": [
    "import tensorflow as tf\n",
    "from tensorflow.keras.preprocessing.text import Tokenizer\n",
    "from tensorflow.keras.models import Sequential\n",
    "from tensorflow.keras.layers import Embedding, LSTM, Dense\n",
    "from tensorflow.keras.optimizers import Adam\n",
    "from tensorflow.keras.preprocessing.sequence import pad_sequences\n",
    "import numpy as np"
   ]
  },
  {
   "cell_type": "code",
   "execution_count": 2,
   "metadata": {},
   "outputs": [],
   "source": [
    "# Step 1: Data Collection and Preprocessing\n",
    "# Read the dataset from a text file\n",
    "with open(\"dataset.txt\", \"r\", encoding=\"utf-8\") as file:\n",
    "    text_data = file.readlines()\n",
    "    \n",
    "# Assuming 'text_data' is your text dataset\n",
    "tokenizer = Tokenizer()\n",
    "tokenizer.fit_on_texts(text_data)\n",
    "\n",
    "total_words = len(tokenizer.word_index) + 1\n",
    "\n",
    "# Create input sequences\n",
    "input_sequences = []\n",
    "for line in text_data:\n",
    "    token_list = tokenizer.texts_to_sequences([line])[0]\n",
    "    for i in range(1, len(token_list)):\n",
    "        n_gram_sequence = token_list[:i+1]\n",
    "        input_sequences.append(n_gram_sequence)\n"
   ]
  },
  {
   "cell_type": "code",
   "execution_count": 8,
   "metadata": {},
   "outputs": [
    {
     "name": "stdout",
     "output_type": "stream",
     "text": [
      "8\n"
     ]
    }
   ],
   "source": [
    "\n",
    "\n",
    "# Pad sequences \n",
    "max_sequence_len = max([len(x) for x in input_sequences])\n",
    "print(max_sequence_len)\n",
    "input_sequences = np.array(pad_sequences(input_sequences, maxlen=max_sequence_len, padding='pre'))\n",
    "\n",
    "# Create predictors and label\n",
    "predictors, label = input_sequences[:,:-1],input_sequences[:,-1]\n",
    "label = tf.keras.utils.to_categorical(label, num_classes=total_words)\n"
   ]
  },
  {
   "cell_type": "code",
   "execution_count": 4,
   "metadata": {},
   "outputs": [],
   "source": [
    "model = Sequential()\n",
    "model.add(Embedding(total_words, 100, input_length=max_sequence_len-1))\n",
    "model.add(LSTM(300))\n",
    "model.add(Dense(total_words, activation='softmax'))\n",
    "\n",
    "model.compile(loss='categorical_crossentropy', optimizer=Adam(learning_rate=0.01), metrics=['accuracy'])\n"
   ]
  },
  {
   "cell_type": "code",
   "execution_count": 5,
   "metadata": {},
   "outputs": [
    {
     "name": "stdout",
     "output_type": "stream",
     "text": [
      "Epoch 1/100\n",
      "2/2 [==============================] - 4s 57ms/step - loss: 3.3801 - accuracy: 0.0417\n",
      "Epoch 2/100\n",
      "2/2 [==============================] - 0s 72ms/step - loss: 3.0842 - accuracy: 0.1458\n",
      "Epoch 3/100\n",
      "2/2 [==============================] - 0s 53ms/step - loss: 3.0483 - accuracy: 0.2917\n",
      "Epoch 4/100\n",
      "2/2 [==============================] - 0s 68ms/step - loss: 2.8473 - accuracy: 0.2500\n",
      "Epoch 5/100\n",
      "2/2 [==============================] - 0s 59ms/step - loss: 2.6780 - accuracy: 0.3542\n",
      "Epoch 6/100\n",
      "2/2 [==============================] - 0s 70ms/step - loss: 2.4828 - accuracy: 0.3750\n",
      "Epoch 7/100\n",
      "2/2 [==============================] - 0s 62ms/step - loss: 2.2682 - accuracy: 0.3750\n",
      "Epoch 8/100\n",
      "2/2 [==============================] - 0s 79ms/step - loss: 1.9761 - accuracy: 0.4375\n",
      "Epoch 9/100\n",
      "2/2 [==============================] - 0s 65ms/step - loss: 1.6904 - accuracy: 0.5208\n",
      "Epoch 10/100\n",
      "2/2 [==============================] - 0s 48ms/step - loss: 1.3672 - accuracy: 0.5833\n",
      "Epoch 11/100\n",
      "2/2 [==============================] - 0s 48ms/step - loss: 1.0610 - accuracy: 0.7083\n",
      "Epoch 12/100\n",
      "2/2 [==============================] - 0s 56ms/step - loss: 0.8194 - accuracy: 0.7500\n",
      "Epoch 13/100\n",
      "2/2 [==============================] - 0s 55ms/step - loss: 0.6563 - accuracy: 0.8125\n",
      "Epoch 14/100\n",
      "2/2 [==============================] - 0s 52ms/step - loss: 0.4894 - accuracy: 0.8333\n",
      "Epoch 15/100\n",
      "2/2 [==============================] - 0s 97ms/step - loss: 0.4974 - accuracy: 0.8125\n",
      "Epoch 16/100\n",
      "2/2 [==============================] - 0s 65ms/step - loss: 0.3523 - accuracy: 0.8750\n",
      "Epoch 17/100\n",
      "2/2 [==============================] - 0s 59ms/step - loss: 0.1857 - accuracy: 0.9792\n",
      "Epoch 18/100\n",
      "2/2 [==============================] - 0s 55ms/step - loss: 0.2294 - accuracy: 0.9375\n",
      "Epoch 19/100\n",
      "2/2 [==============================] - 0s 49ms/step - loss: 0.2046 - accuracy: 0.9583\n",
      "Epoch 20/100\n",
      "2/2 [==============================] - 0s 66ms/step - loss: 0.1292 - accuracy: 0.9583\n",
      "Epoch 21/100\n",
      "2/2 [==============================] - 0s 72ms/step - loss: 0.0977 - accuracy: 0.9792\n",
      "Epoch 22/100\n",
      "2/2 [==============================] - 0s 72ms/step - loss: 0.0753 - accuracy: 0.9792\n",
      "Epoch 23/100\n",
      "2/2 [==============================] - 0s 71ms/step - loss: 0.0687 - accuracy: 0.9792\n",
      "Epoch 24/100\n",
      "2/2 [==============================] - 0s 72ms/step - loss: 0.0568 - accuracy: 0.9792\n",
      "Epoch 25/100\n",
      "2/2 [==============================] - 0s 86ms/step - loss: 0.0379 - accuracy: 0.9792\n",
      "Epoch 26/100\n",
      "2/2 [==============================] - 0s 80ms/step - loss: 0.0359 - accuracy: 0.9792\n",
      "Epoch 27/100\n",
      "2/2 [==============================] - 0s 75ms/step - loss: 0.0388 - accuracy: 0.9583\n",
      "Epoch 28/100\n",
      "2/2 [==============================] - 0s 53ms/step - loss: 0.0338 - accuracy: 0.9792\n",
      "Epoch 29/100\n",
      "2/2 [==============================] - 0s 49ms/step - loss: 0.0358 - accuracy: 0.9792\n",
      "Epoch 30/100\n",
      "2/2 [==============================] - 0s 64ms/step - loss: 0.0346 - accuracy: 0.9792\n",
      "Epoch 31/100\n",
      "2/2 [==============================] - 0s 59ms/step - loss: 0.0313 - accuracy: 0.9792\n",
      "Epoch 32/100\n",
      "2/2 [==============================] - 0s 49ms/step - loss: 0.0340 - accuracy: 0.9792\n",
      "Epoch 33/100\n",
      "2/2 [==============================] - 0s 80ms/step - loss: 0.0443 - accuracy: 0.9792\n",
      "Epoch 34/100\n",
      "2/2 [==============================] - 0s 55ms/step - loss: 0.0337 - accuracy: 0.9792\n",
      "Epoch 35/100\n",
      "2/2 [==============================] - 0s 61ms/step - loss: 0.0448 - accuracy: 0.9792\n",
      "Epoch 36/100\n",
      "2/2 [==============================] - 0s 52ms/step - loss: 0.0369 - accuracy: 0.9792\n",
      "Epoch 37/100\n",
      "2/2 [==============================] - 0s 51ms/step - loss: 0.0307 - accuracy: 0.9792\n",
      "Epoch 38/100\n",
      "2/2 [==============================] - 0s 51ms/step - loss: 0.0324 - accuracy: 0.9792\n",
      "Epoch 39/100\n",
      "2/2 [==============================] - 0s 66ms/step - loss: 0.0382 - accuracy: 0.9792\n",
      "Epoch 40/100\n",
      "2/2 [==============================] - 0s 59ms/step - loss: 0.0389 - accuracy: 0.9792\n",
      "Epoch 41/100\n",
      "2/2 [==============================] - 0s 58ms/step - loss: 0.0345 - accuracy: 0.9792\n",
      "Epoch 42/100\n",
      "2/2 [==============================] - 0s 53ms/step - loss: 0.0319 - accuracy: 0.9792\n",
      "Epoch 43/100\n",
      "2/2 [==============================] - 0s 52ms/step - loss: 0.0304 - accuracy: 0.9792\n",
      "Epoch 44/100\n",
      "2/2 [==============================] - 0s 52ms/step - loss: 0.0325 - accuracy: 0.9792\n",
      "Epoch 45/100\n",
      "2/2 [==============================] - 0s 85ms/step - loss: 0.0318 - accuracy: 0.9792\n",
      "Epoch 46/100\n",
      "2/2 [==============================] - 0s 88ms/step - loss: 0.0274 - accuracy: 1.0000\n",
      "Epoch 47/100\n",
      "2/2 [==============================] - 0s 62ms/step - loss: 0.0421 - accuracy: 0.9792\n",
      "Epoch 48/100\n",
      "2/2 [==============================] - 0s 63ms/step - loss: 0.0383 - accuracy: 0.9792\n",
      "Epoch 49/100\n",
      "2/2 [==============================] - 0s 53ms/step - loss: 0.0339 - accuracy: 0.9792\n",
      "Epoch 50/100\n",
      "2/2 [==============================] - 0s 52ms/step - loss: 0.0304 - accuracy: 0.9792\n",
      "Epoch 51/100\n",
      "2/2 [==============================] - 0s 53ms/step - loss: 0.0297 - accuracy: 0.9792\n",
      "Epoch 52/100\n",
      "2/2 [==============================] - 0s 51ms/step - loss: 0.0318 - accuracy: 0.9792\n",
      "Epoch 53/100\n",
      "2/2 [==============================] - 0s 60ms/step - loss: 0.0346 - accuracy: 0.9792\n",
      "Epoch 54/100\n",
      "2/2 [==============================] - 0s 65ms/step - loss: 0.0349 - accuracy: 0.9792\n",
      "Epoch 55/100\n",
      "2/2 [==============================] - 0s 76ms/step - loss: 0.0351 - accuracy: 0.9792\n",
      "Epoch 56/100\n",
      "2/2 [==============================] - 0s 77ms/step - loss: 0.0307 - accuracy: 0.9792\n",
      "Epoch 57/100\n",
      "2/2 [==============================] - 0s 71ms/step - loss: 0.0308 - accuracy: 0.9792\n",
      "Epoch 58/100\n",
      "2/2 [==============================] - 0s 77ms/step - loss: 0.0286 - accuracy: 0.9792\n",
      "Epoch 59/100\n",
      "2/2 [==============================] - 0s 67ms/step - loss: 0.0373 - accuracy: 0.9792\n",
      "Epoch 60/100\n",
      "2/2 [==============================] - 0s 52ms/step - loss: 0.0354 - accuracy: 0.9792\n",
      "Epoch 61/100\n",
      "2/2 [==============================] - 0s 71ms/step - loss: 0.0321 - accuracy: 0.9792\n",
      "Epoch 62/100\n",
      "2/2 [==============================] - 0s 63ms/step - loss: 0.0309 - accuracy: 0.9792\n",
      "Epoch 63/100\n",
      "2/2 [==============================] - 0s 51ms/step - loss: 0.0298 - accuracy: 0.9792\n",
      "Epoch 64/100\n",
      "2/2 [==============================] - 0s 63ms/step - loss: 0.0299 - accuracy: 0.9792\n",
      "Epoch 65/100\n",
      "2/2 [==============================] - 0s 88ms/step - loss: 0.0313 - accuracy: 0.9792\n",
      "Epoch 66/100\n",
      "2/2 [==============================] - 0s 74ms/step - loss: 0.0315 - accuracy: 0.9792\n",
      "Epoch 67/100\n",
      "2/2 [==============================] - 0s 73ms/step - loss: 0.0318 - accuracy: 0.9792\n",
      "Epoch 68/100\n",
      "2/2 [==============================] - 0s 84ms/step - loss: 0.0298 - accuracy: 0.9792\n",
      "Epoch 69/100\n",
      "2/2 [==============================] - 0s 77ms/step - loss: 0.0295 - accuracy: 0.9792\n",
      "Epoch 70/100\n",
      "2/2 [==============================] - 0s 74ms/step - loss: 0.0326 - accuracy: 0.9792\n",
      "Epoch 71/100\n",
      "2/2 [==============================] - 0s 61ms/step - loss: 0.0369 - accuracy: 0.9792\n",
      "Epoch 72/100\n",
      "2/2 [==============================] - 0s 50ms/step - loss: 0.0331 - accuracy: 0.9792\n",
      "Epoch 73/100\n",
      "2/2 [==============================] - 0s 50ms/step - loss: 0.0279 - accuracy: 0.9792\n",
      "Epoch 74/100\n",
      "2/2 [==============================] - 0s 51ms/step - loss: 0.0300 - accuracy: 0.9792\n",
      "Epoch 75/100\n",
      "2/2 [==============================] - 0s 52ms/step - loss: 0.0350 - accuracy: 0.9792\n",
      "Epoch 76/100\n",
      "2/2 [==============================] - 0s 97ms/step - loss: 0.0393 - accuracy: 0.9792\n",
      "Epoch 77/100\n",
      "2/2 [==============================] - 0s 53ms/step - loss: 0.0393 - accuracy: 0.9792\n",
      "Epoch 78/100\n",
      "2/2 [==============================] - 0s 60ms/step - loss: 0.0360 - accuracy: 0.9792\n",
      "Epoch 79/100\n",
      "2/2 [==============================] - 0s 60ms/step - loss: 0.0323 - accuracy: 0.9792\n",
      "Epoch 80/100\n",
      "2/2 [==============================] - 0s 55ms/step - loss: 0.0303 - accuracy: 0.9792\n",
      "Epoch 81/100\n",
      "2/2 [==============================] - 0s 60ms/step - loss: 0.0300 - accuracy: 0.9792\n",
      "Epoch 82/100\n",
      "2/2 [==============================] - 0s 52ms/step - loss: 0.0306 - accuracy: 0.9792\n",
      "Epoch 83/100\n",
      "2/2 [==============================] - 0s 57ms/step - loss: 0.0329 - accuracy: 0.9792\n",
      "Epoch 84/100\n",
      "2/2 [==============================] - 0s 59ms/step - loss: 0.0373 - accuracy: 0.9792\n",
      "Epoch 85/100\n",
      "2/2 [==============================] - 0s 50ms/step - loss: 0.0318 - accuracy: 0.9792\n",
      "Epoch 86/100\n",
      "2/2 [==============================] - 0s 49ms/step - loss: 0.0301 - accuracy: 0.9792\n",
      "Epoch 87/100\n",
      "2/2 [==============================] - 0s 57ms/step - loss: 0.0356 - accuracy: 0.9792\n",
      "Epoch 88/100\n",
      "2/2 [==============================] - 0s 52ms/step - loss: 0.0380 - accuracy: 0.9792\n",
      "Epoch 89/100\n",
      "2/2 [==============================] - 0s 49ms/step - loss: 0.0336 - accuracy: 0.9792\n",
      "Epoch 90/100\n",
      "2/2 [==============================] - 0s 54ms/step - loss: 0.0277 - accuracy: 1.0000\n",
      "Epoch 91/100\n",
      "2/2 [==============================] - 0s 47ms/step - loss: 0.0290 - accuracy: 0.9792\n",
      "Epoch 92/100\n",
      "2/2 [==============================] - 0s 50ms/step - loss: 0.0331 - accuracy: 0.9792\n",
      "Epoch 93/100\n",
      "2/2 [==============================] - 0s 50ms/step - loss: 0.0372 - accuracy: 0.9792\n",
      "Epoch 94/100\n",
      "2/2 [==============================] - 0s 51ms/step - loss: 0.0399 - accuracy: 0.9792\n",
      "Epoch 95/100\n",
      "2/2 [==============================] - 0s 46ms/step - loss: 0.0395 - accuracy: 0.9792\n",
      "Epoch 96/100\n",
      "2/2 [==============================] - 0s 94ms/step - loss: 0.0331 - accuracy: 0.9792\n",
      "Epoch 97/100\n",
      "2/2 [==============================] - 0s 60ms/step - loss: 0.0334 - accuracy: 0.9792\n",
      "Epoch 98/100\n",
      "2/2 [==============================] - 0s 60ms/step - loss: 0.0300 - accuracy: 0.9792\n",
      "Epoch 99/100\n",
      "2/2 [==============================] - 0s 54ms/step - loss: 0.0305 - accuracy: 0.9792\n",
      "Epoch 100/100\n",
      "2/2 [==============================] - 0s 48ms/step - loss: 0.0324 - accuracy: 0.9792\n"
     ]
    }
   ],
   "source": [
    "history = model.fit(predictors, label, epochs=100, verbose=1)"
   ]
  },
  {
   "cell_type": "code",
   "execution_count": 6,
   "metadata": {},
   "outputs": [
    {
     "data": {
      "text/plain": [
       "<matplotlib.legend.Legend at 0x193b8caa5d0>"
      ]
     },
     "execution_count": 6,
     "metadata": {},
     "output_type": "execute_result"
    },
    {
     "data": {
      "image/png": "[encoded data removed]",
      "text/plain": [
       "<Figure size 640x480 with 1 Axes>"
      ]
     },
     "metadata": {},
     "output_type": "display_data"
    }
   ],
   "source": [
    "import matplotlib.pyplot as plt\n",
    "plt.plot(history.history[\"accuracy\"], label=\"Accuracy\")\n",
    "plt.plot(history.history[\"loss\"], label=\"Loss\")\n",
    "plt.legend()"
   ]
  },
  {
   "cell_type": "code",
   "execution_count": 7,
   "metadata": {},
   "outputs": [
    {
     "name": "stdout",
     "output_type": "stream",
     "text": [
      "INFO:tensorflow:Assets written to: gpt_model\\assets\n"
     ]
    },
    {
     "name": "stderr",
     "output_type": "stream",
     "text": [
      "INFO:tensorflow:Assets written to: gpt_model\\assets\n"
     ]
    }
   ],
   "source": [
    "model.save(\"gpt_model\")"
   ]
  },
  {
   "cell_type": "code",
   "execution_count": 8,
   "metadata": {},
   "outputs": [
    {
     "name": "stdout",
     "output_type": "stream",
     "text": [
      "You:  who are you\n",
      "Bot:  gpt model \n",
      "Cannot accept empty field!\n",
      "You:  Hello\n",
      "Bot:  hi \n",
      "Cannot accept empty field!\n",
      "You:  how are you\n",
      "Bot:  am fine and you \n",
      "You:  am good\n",
      "Bot:  that is good \n",
      "Cannot accept empty field!\n"
     ]
    }
   ],
   "source": [
    "# Step 7: Fine-Tuning (Optional)\n",
    "# Fine-tuning can be performed by adjusting model architecture or hyperparameters.\n",
    "\n",
    "# Step 8: Inference (Text Generation)\n",
    "while True:\n",
    "    seed_text = input()\n",
    "    prev = seed_text\n",
    "    if seed_text == \"q\":\n",
    "        break\n",
    "    elif seed_text == \"\":\n",
    "        print(\"Cannot accept empty field!\")\n",
    "    else:\n",
    "\n",
    "\n",
    "        next_words = 100\n",
    "        generated_text = \"\"\n",
    "\n",
    "        while True:\n",
    "            token_list = tokenizer.texts_to_sequences([seed_text])[0]\n",
    "            token_list = pad_sequences([token_list], maxlen=max_sequence_len-1, padding='pre')\n",
    "            predicted_probs = model.predict(token_list, verbose=0)[0]\n",
    "            predicted_index = np.argmax(predicted_probs)\n",
    "            predicted_word = tokenizer.index_word[predicted_index]\n",
    "            # Check if the predicted word is not already in the generated text\n",
    "            if predicted_word not in generated_text:\n",
    "                if predicted_word == \"end\":\n",
    "                    break\n",
    "                else:\n",
    "                    seed_text += \" \" + predicted_word\n",
    "                    generated_text += predicted_word + \" \"\n",
    "            else:\n",
    "                break\n",
    "        \n",
    "        print(\"You: \", prev)\n",
    "        print(\"Bot: \", generated_text)"
   ]
  },
  {
   "cell_type": "code",
   "execution_count": null,
   "metadata": {},
   "outputs": [],
   "source": []
  }
 ],
 "metadata": {
  "kernelspec": {
   "display_name": "base",
   "language": "python",
   "name": "python3"
  },
  "language_info": {
   "codemirror_mode": {
    "name": "ipython",
    "version": 3
   },
   "file_extension": ".py",
   "mimetype": "text/x-python",
   "name": "python",
   "nbconvert_exporter": "python",
   "pygments_lexer": "ipython3",
   "version": "3.11.4"
  }
 },
 "nbformat": 4,
 "nbformat_minor": 2
}
